{
 "cells": [
  {
   "cell_type": "code",
   "execution_count": 1,
   "id": "5e316688-3a2e-480d-b9c0-814013740729",
   "metadata": {},
   "outputs": [],
   "source": [
    "import numpy as np\n",
    "import pandas as pd"
   ]
  },
  {
   "cell_type": "code",
   "execution_count": 5,
   "id": "8d2d5e0a-6203-40b2-89c5-23fa06478932",
   "metadata": {},
   "outputs": [],
   "source": [
    "arr1 = np.array([5,3])"
   ]
  },
  {
   "cell_type": "code",
   "execution_count": 6,
   "id": "64cffb6c-8e20-43d6-bd1e-7bd65bebbbd7",
   "metadata": {},
   "outputs": [],
   "source": [
    "arr2 = np.array([[1, 2, 3], [4, 5, 6]])"
   ]
  },
  {
   "cell_type": "code",
   "execution_count": 7,
   "id": "69699c1d-db3d-48bc-95a1-d3be38a311d6",
   "metadata": {},
   "outputs": [],
   "source": [
    "arr3 = np.array([[1, 2, 3], [4, 5, 6], [4, 9, 6]])"
   ]
  },
  {
   "cell_type": "code",
   "execution_count": null,
   "id": "de5d6f60-b2d5-4635-a4ab-d4b59f7866e5",
   "metadata": {},
   "outputs": [],
   "source": []
  }
 ],
 "metadata": {
  "kernelspec": {
   "display_name": "Python 3 (ipykernel)",
   "language": "python",
   "name": "python3"
  },
  "language_info": {
   "codemirror_mode": {
    "name": "ipython",
    "version": 3
   },
   "file_extension": ".py",
   "mimetype": "text/x-python",
   "name": "python",
   "nbconvert_exporter": "python",
   "pygments_lexer": "ipython3",
   "version": "3.13.2"
  }
 },
 "nbformat": 4,
 "nbformat_minor": 5
}
