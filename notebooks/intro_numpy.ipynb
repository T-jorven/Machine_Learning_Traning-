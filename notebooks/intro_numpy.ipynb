{
 "cells": [
  {
   "cell_type": "code",
   "execution_count": 1,
   "id": "8b8de2bc-79d6-412e-abcb-8d277c09a274",
   "metadata": {},
   "outputs": [],
   "source": [
    "test = \"test\""
   ]
  },
  {
   "cell_type": "code",
   "execution_count": 2,
   "id": "a19b6bac-e253-442b-99d5-2827c5b94734",
   "metadata": {},
   "outputs": [
    {
     "data": {
      "text/plain": [
       "'test'"
      ]
     },
     "execution_count": 2,
     "metadata": {},
     "output_type": "execute_result"
    }
   ],
   "source": [
    "test"
   ]
  },
  {
   "cell_type": "code",
   "execution_count": 3,
   "id": "180dd7ca-a385-44c3-bbfc-2ede6a2c6944",
   "metadata": {},
   "outputs": [],
   "source": [
    "import numpy as np"
   ]
  },
  {
   "cell_type": "code",
   "execution_count": 4,
   "id": "e0e14839-449d-46ea-a82f-a32a1fdb0d91",
   "metadata": {},
   "outputs": [
    {
     "name": "stdout",
     "output_type": "stream",
     "text": [
      "2.2.5\n"
     ]
    }
   ],
   "source": [
    "print(np.__version__)"
   ]
  },
  {
   "cell_type": "code",
   "execution_count": 12,
   "id": "757c089c-125e-4b2a-8b33-f404e2538be8",
   "metadata": {},
   "outputs": [
    {
     "name": "stdout",
     "output_type": "stream",
     "text": [
      "[[66 75 28]\n",
      " [30 82  5]\n",
      " [88 68 25]]\n"
     ]
    }
   ],
   "source": [
    "arr = np.random.randint(0, 100, size=(3, 3))\n",
    "print(arr)"
   ]
  },
  {
   "cell_type": "code",
   "execution_count": 13,
   "id": "e003f76d-b017-400e-bc5b-c5fdbc55a43d",
   "metadata": {},
   "outputs": [
    {
     "name": "stdout",
     "output_type": "stream",
     "text": [
      "[[ 9 32 84]]\n"
     ]
    }
   ],
   "source": [
    "arr1 = np.random.randint(0, 100, size=(1, 3))\n",
    "print(arr1)"
   ]
  },
  {
   "cell_type": "code",
   "execution_count": 15,
   "id": "ed057b10-db5d-4795-940f-1c678680e37f",
   "metadata": {},
   "outputs": [],
   "source": [
    "result = np.dot(arr1, arr)"
   ]
  },
  {
   "cell_type": "code",
   "execution_count": 16,
   "id": "6a0358ff-3617-4d59-8bcd-91d5d38cd053",
   "metadata": {},
   "outputs": [
    {
     "name": "stdout",
     "output_type": "stream",
     "text": [
      "[[8946 9011 2512]]\n"
     ]
    }
   ],
   "source": [
    "print(np.dot(arr1, arr))"
   ]
  },
  {
   "cell_type": "code",
   "execution_count": null,
   "id": "ee09b491-38e1-412d-abe0-e2671bc410d7",
   "metadata": {},
   "outputs": [],
   "source": []
  }
 ],
 "metadata": {
  "kernelspec": {
   "display_name": "Python 3 (ipykernel)",
   "language": "python",
   "name": "python3"
  },
  "language_info": {
   "codemirror_mode": {
    "name": "ipython",
    "version": 3
   },
   "file_extension": ".py",
   "mimetype": "text/x-python",
   "name": "python",
   "nbconvert_exporter": "python",
   "pygments_lexer": "ipython3",
   "version": "3.13.2"
  }
 },
 "nbformat": 4,
 "nbformat_minor": 5
}
