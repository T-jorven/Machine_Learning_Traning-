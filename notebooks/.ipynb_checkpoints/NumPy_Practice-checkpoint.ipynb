{
 "cells": [
  {
   "cell_type": "code",
   "execution_count": 2,
   "id": "5e316688-3a2e-480d-b9c0-814013740729",
   "metadata": {},
   "outputs": [],
   "source": [
    "import numpy as np\n",
    "import pandas as pd"
   ]
  },
  {
   "cell_type": "code",
   "execution_count": 3,
   "id": "8d2d5e0a-6203-40b2-89c5-23fa06478932",
   "metadata": {},
   "outputs": [],
   "source": [
    "arr1 = np.array([5,3])"
   ]
  },
  {
   "cell_type": "code",
   "execution_count": 4,
   "id": "64cffb6c-8e20-43d6-bd1e-7bd65bebbbd7",
   "metadata": {},
   "outputs": [],
   "source": [
    "arr2 = np.array([[1, 2, 3], [4, 5, 6]])"
   ]
  },
  {
   "cell_type": "code",
   "execution_count": 5,
   "id": "69699c1d-db3d-48bc-95a1-d3be38a311d6",
   "metadata": {},
   "outputs": [],
   "source": [
    "arr3 = np.array([[1, 2, 3], [4, 5, 6], [4, 9, 6]])"
   ]
  },
  {
   "cell_type": "code",
   "execution_count": 8,
   "id": "de5d6f60-b2d5-4635-a4ab-d4b59f7866e5",
   "metadata": {},
   "outputs": [
    {
     "name": "stdout",
     "output_type": "stream",
     "text": [
      "Shape: (2,)\n",
      "Shape: (2, 3)\n",
      "Shape: (3, 3)\n",
      "Dimensions: 1\n",
      "Dimensions: 2\n",
      "Dimensions: 2\n",
      "Data type: int64\n",
      "Data type: int64\n",
      "Data type: int64\n",
      "Size: 2\n",
      "Size: 6\n",
      "Size: 9\n",
      "Type: <class 'numpy.ndarray'>\n",
      "Type: <class 'numpy.ndarray'>\n",
      "Type: <class 'numpy.ndarray'>\n"
     ]
    }
   ],
   "source": [
    "print(\"Shape:\", arr1.shape) \n",
    "print(\"Shape:\", arr2.shape) \n",
    "print(\"Shape:\", arr3.shape) \n",
    "    \n",
    "print(\"Dimensions:\", arr1.ndim)      \n",
    "print(\"Dimensions:\", arr2.ndim) \n",
    "print(\"Dimensions:\", arr3.ndim) \n",
    "\n",
    "print(\"Data type:\", arr1.dtype)     \n",
    "print(\"Data type:\", arr2.dtype) \n",
    "print(\"Data type:\", arr3.dtype) \n",
    "\n",
    "print(\"Size:\", arr1.size)    \n",
    "print(\"Size:\", arr2.size) \n",
    "print(\"Size:\", arr3.size) \n",
    "\n",
    "print(\"Type:\", type(arr1))  \n",
    "print(\"Type:\", type(arr2)) \n",
    "print(\"Type:\", type(arr3)) \n"
   ]
  },
  {
   "cell_type": "code",
   "execution_count": 9,
   "id": "873226e8-104d-473e-a5c7-8d69a6ca86f8",
   "metadata": {},
   "outputs": [],
   "source": [
    "df = pd.DataFrame(arr3, columns=[\"A\", \"B\", \"C\"])"
   ]
  },
  {
   "cell_type": "code",
   "execution_count": 10,
   "id": "c91a8e51-04ec-47f8-a666-c6fe97eba261",
   "metadata": {},
   "outputs": [
    {
     "data": {
      "text/html": [
       "<div>\n",
       "<style scoped>\n",
       "    .dataframe tbody tr th:only-of-type {\n",
       "        vertical-align: middle;\n",
       "    }\n",
       "\n",
       "    .dataframe tbody tr th {\n",
       "        vertical-align: top;\n",
       "    }\n",
       "\n",
       "    .dataframe thead th {\n",
       "        text-align: right;\n",
       "    }\n",
       "</style>\n",
       "<table border=\"1\" class=\"dataframe\">\n",
       "  <thead>\n",
       "    <tr style=\"text-align: right;\">\n",
       "      <th></th>\n",
       "      <th>A</th>\n",
       "      <th>B</th>\n",
       "      <th>C</th>\n",
       "    </tr>\n",
       "  </thead>\n",
       "  <tbody>\n",
       "    <tr>\n",
       "      <th>0</th>\n",
       "      <td>1</td>\n",
       "      <td>2</td>\n",
       "      <td>3</td>\n",
       "    </tr>\n",
       "    <tr>\n",
       "      <th>1</th>\n",
       "      <td>4</td>\n",
       "      <td>5</td>\n",
       "      <td>6</td>\n",
       "    </tr>\n",
       "    <tr>\n",
       "      <th>2</th>\n",
       "      <td>4</td>\n",
       "      <td>9</td>\n",
       "      <td>6</td>\n",
       "    </tr>\n",
       "  </tbody>\n",
       "</table>\n",
       "</div>"
      ],
      "text/plain": [
       "   A  B  C\n",
       "0  1  2  3\n",
       "1  4  5  6\n",
       "2  4  9  6"
      ]
     },
     "execution_count": 10,
     "metadata": {},
     "output_type": "execute_result"
    }
   ],
   "source": [
    "df"
   ]
  },
  {
   "cell_type": "code",
   "execution_count": 11,
   "id": "5ead5434-cb85-42a9-b92c-97f180561ebd",
   "metadata": {},
   "outputs": [
    {
     "data": {
      "text/plain": [
       "array([[1., 1.],\n",
       "       [1., 1.],\n",
       "       [1., 1.],\n",
       "       [1., 1.],\n",
       "       [1., 1.],\n",
       "       [1., 1.],\n",
       "       [1., 1.],\n",
       "       [1., 1.],\n",
       "       [1., 1.],\n",
       "       [1., 1.]])"
      ]
     },
     "execution_count": 11,
     "metadata": {},
     "output_type": "execute_result"
    }
   ],
   "source": [
    "arr = np.ones((10,2))\n",
    "arr"
   ]
  },
  {
   "cell_type": "code",
   "execution_count": 12,
   "id": "87a94436-41cf-43b8-b1e4-bb38d6e0b398",
   "metadata": {},
   "outputs": [
    {
     "data": {
      "text/plain": [
       "array([[[0., 0., 0.],\n",
       "        [0., 0., 0.]],\n",
       "\n",
       "       [[0., 0., 0.],\n",
       "        [0., 0., 0.]],\n",
       "\n",
       "       [[0., 0., 0.],\n",
       "        [0., 0., 0.]],\n",
       "\n",
       "       [[0., 0., 0.],\n",
       "        [0., 0., 0.]],\n",
       "\n",
       "       [[0., 0., 0.],\n",
       "        [0., 0., 0.]],\n",
       "\n",
       "       [[0., 0., 0.],\n",
       "        [0., 0., 0.]],\n",
       "\n",
       "       [[0., 0., 0.],\n",
       "        [0., 0., 0.]]])"
      ]
     },
     "execution_count": 12,
     "metadata": {},
     "output_type": "execute_result"
    }
   ],
   "source": [
    "zerosArr = np.zeros((7, 2, 3))\n",
    "zerosArr"
   ]
  },
  {
   "cell_type": "code",
   "execution_count": 13,
   "id": "525abc4c-e291-4a7b-a671-e3258bd67f7f",
   "metadata": {},
   "outputs": [
    {
     "data": {
      "text/plain": [
       "array([ 0,  3,  6,  9, 12, 15, 18, 21, 24, 27, 30, 33, 36, 39, 42, 45, 48,\n",
       "       51, 54, 57, 60, 63, 66, 69, 72, 75, 78, 81, 84, 87, 90, 93, 96, 99])"
      ]
     },
     "execution_count": 13,
     "metadata": {},
     "output_type": "execute_result"
    }
   ],
   "source": [
    "rangeArr = np.arange(0,100, 3)\n",
    "rangeArr"
   ]
  },
  {
   "cell_type": "code",
   "execution_count": 15,
   "id": "dcf301b6-ec81-47c0-8288-1030ea5745fc",
   "metadata": {},
   "outputs": [
    {
     "data": {
      "text/plain": [
       "array([[ 5, 10],\n",
       "       [ 5,  7],\n",
       "       [ 4,  0],\n",
       "       [ 6, 10],\n",
       "       [ 9,  8],\n",
       "       [ 5,  3],\n",
       "       [ 6,  3]])"
      ]
     },
     "execution_count": 15,
     "metadata": {},
     "output_type": "execute_result"
    }
   ],
   "source": [
    "randArr= np.random.randint(0, 11, size=(7,2))\n",
    "randArr"
   ]
  },
  {
   "cell_type": "code",
   "execution_count": 16,
   "id": "00a5eff3-425e-44a1-8f42-01e084b035b6",
   "metadata": {},
   "outputs": [
    {
     "data": {
      "text/plain": [
       "array([[0.10040991, 0.581036  , 0.73597126, 0.92368347, 0.62077753],\n",
       "       [0.97071878, 0.07503529, 0.40368639, 0.41837074, 0.72595802],\n",
       "       [0.76629603, 0.48509655, 0.25537226, 0.86147646, 0.38997907]])"
      ]
     },
     "execution_count": 16,
     "metadata": {},
     "output_type": "execute_result"
    }
   ],
   "source": [
    "floatsArr = np.random.rand(3,5)\n",
    "floatsArr"
   ]
  },
  {
   "cell_type": "code",
   "execution_count": 20,
   "id": "0181e446-c2d1-466e-bfeb-7124391230dc",
   "metadata": {},
   "outputs": [
    {
     "data": {
      "text/plain": [
       "array([[ 6,  3, 10,  7,  4,  6],\n",
       "       [ 9,  2,  6, 10, 10,  7],\n",
       "       [ 4,  3,  7,  7,  2,  5],\n",
       "       [ 4,  1,  7,  5,  1,  4]])"
      ]
     },
     "execution_count": 20,
     "metadata": {},
     "output_type": "execute_result"
    }
   ],
   "source": [
    "np.random.seed(42)\n",
    "seedArray = np.random.randint(0, 11, size= (4,6))\n",
    "seedArray"
   ]
  },
  {
   "cell_type": "code",
   "execution_count": null,
   "id": "72eb3adf-5fab-4e2c-b2a0-c92b90d942eb",
   "metadata": {},
   "outputs": [],
   "source": []
  }
 ],
 "metadata": {
  "kernelspec": {
   "display_name": "Python 3 (ipykernel)",
   "language": "python",
   "name": "python3"
  },
  "language_info": {
   "codemirror_mode": {
    "name": "ipython",
    "version": 3
   },
   "file_extension": ".py",
   "mimetype": "text/x-python",
   "name": "python",
   "nbconvert_exporter": "python",
   "pygments_lexer": "ipython3",
   "version": "3.13.2"
  }
 },
 "nbformat": 4,
 "nbformat_minor": 5
}
