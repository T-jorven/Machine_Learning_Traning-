{
 "cells": [
  {
   "cell_type": "code",
   "execution_count": 1,
   "id": "5e316688-3a2e-480d-b9c0-814013740729",
   "metadata": {},
   "outputs": [],
   "source": [
    "import numpy as np\n",
    "import pandas as pd"
   ]
  },
  {
   "cell_type": "code",
   "execution_count": 2,
   "id": "8d2d5e0a-6203-40b2-89c5-23fa06478932",
   "metadata": {},
   "outputs": [],
   "source": [
    "arr1 = np.array([5,3])"
   ]
  },
  {
   "cell_type": "code",
   "execution_count": 3,
   "id": "64cffb6c-8e20-43d6-bd1e-7bd65bebbbd7",
   "metadata": {},
   "outputs": [],
   "source": [
    "arr2 = np.array([[1, 2, 3], [4, 5, 6]])"
   ]
  },
  {
   "cell_type": "code",
   "execution_count": 4,
   "id": "69699c1d-db3d-48bc-95a1-d3be38a311d6",
   "metadata": {},
   "outputs": [],
   "source": [
    "arr3 = np.array([[1, 2, 3], [4, 5, 6], [4, 9, 6]])"
   ]
  },
  {
   "cell_type": "code",
   "execution_count": 5,
   "id": "de5d6f60-b2d5-4635-a4ab-d4b59f7866e5",
   "metadata": {},
   "outputs": [
    {
     "name": "stdout",
     "output_type": "stream",
     "text": [
      "Shape: (2,)\n",
      "Shape: (2, 3)\n",
      "Shape: (3, 3)\n",
      "Dimensions: 1\n",
      "Dimensions: 2\n",
      "Dimensions: 2\n",
      "Data type: int64\n",
      "Data type: int64\n",
      "Data type: int64\n",
      "Size: 2\n",
      "Size: 6\n",
      "Size: 9\n",
      "Type: <class 'numpy.ndarray'>\n",
      "Type: <class 'numpy.ndarray'>\n",
      "Type: <class 'numpy.ndarray'>\n"
     ]
    }
   ],
   "source": [
    "print(\"Shape:\", arr1.shape) \n",
    "print(\"Shape:\", arr2.shape) \n",
    "print(\"Shape:\", arr3.shape) \n",
    "    \n",
    "print(\"Dimensions:\", arr1.ndim)      \n",
    "print(\"Dimensions:\", arr2.ndim) \n",
    "print(\"Dimensions:\", arr3.ndim) \n",
    "\n",
    "print(\"Data type:\", arr1.dtype)     \n",
    "print(\"Data type:\", arr2.dtype) \n",
    "print(\"Data type:\", arr3.dtype) \n",
    "\n",
    "print(\"Size:\", arr1.size)    \n",
    "print(\"Size:\", arr2.size) \n",
    "print(\"Size:\", arr3.size) \n",
    "\n",
    "print(\"Type:\", type(arr1))  \n",
    "print(\"Type:\", type(arr2)) \n",
    "print(\"Type:\", type(arr3)) \n"
   ]
  },
  {
   "cell_type": "code",
   "execution_count": 6,
   "id": "873226e8-104d-473e-a5c7-8d69a6ca86f8",
   "metadata": {},
   "outputs": [],
   "source": [
    "df = pd.DataFrame(arr3, columns=[\"A\", \"B\", \"C\"])"
   ]
  },
  {
   "cell_type": "code",
   "execution_count": 7,
   "id": "c91a8e51-04ec-47f8-a666-c6fe97eba261",
   "metadata": {},
   "outputs": [
    {
     "data": {
      "text/html": [
       "<div>\n",
       "<style scoped>\n",
       "    .dataframe tbody tr th:only-of-type {\n",
       "        vertical-align: middle;\n",
       "    }\n",
       "\n",
       "    .dataframe tbody tr th {\n",
       "        vertical-align: top;\n",
       "    }\n",
       "\n",
       "    .dataframe thead th {\n",
       "        text-align: right;\n",
       "    }\n",
       "</style>\n",
       "<table border=\"1\" class=\"dataframe\">\n",
       "  <thead>\n",
       "    <tr style=\"text-align: right;\">\n",
       "      <th></th>\n",
       "      <th>A</th>\n",
       "      <th>B</th>\n",
       "      <th>C</th>\n",
       "    </tr>\n",
       "  </thead>\n",
       "  <tbody>\n",
       "    <tr>\n",
       "      <th>0</th>\n",
       "      <td>1</td>\n",
       "      <td>2</td>\n",
       "      <td>3</td>\n",
       "    </tr>\n",
       "    <tr>\n",
       "      <th>1</th>\n",
       "      <td>4</td>\n",
       "      <td>5</td>\n",
       "      <td>6</td>\n",
       "    </tr>\n",
       "    <tr>\n",
       "      <th>2</th>\n",
       "      <td>4</td>\n",
       "      <td>9</td>\n",
       "      <td>6</td>\n",
       "    </tr>\n",
       "  </tbody>\n",
       "</table>\n",
       "</div>"
      ],
      "text/plain": [
       "   A  B  C\n",
       "0  1  2  3\n",
       "1  4  5  6\n",
       "2  4  9  6"
      ]
     },
     "execution_count": 7,
     "metadata": {},
     "output_type": "execute_result"
    }
   ],
   "source": [
    "df"
   ]
  },
  {
   "cell_type": "code",
   "execution_count": 8,
   "id": "5ead5434-cb85-42a9-b92c-97f180561ebd",
   "metadata": {},
   "outputs": [
    {
     "data": {
      "text/plain": [
       "array([[1., 1.],\n",
       "       [1., 1.],\n",
       "       [1., 1.],\n",
       "       [1., 1.],\n",
       "       [1., 1.],\n",
       "       [1., 1.],\n",
       "       [1., 1.],\n",
       "       [1., 1.],\n",
       "       [1., 1.],\n",
       "       [1., 1.]])"
      ]
     },
     "execution_count": 8,
     "metadata": {},
     "output_type": "execute_result"
    }
   ],
   "source": [
    "arr = np.ones((10,2))\n",
    "arr"
   ]
  },
  {
   "cell_type": "code",
   "execution_count": 9,
   "id": "87a94436-41cf-43b8-b1e4-bb38d6e0b398",
   "metadata": {},
   "outputs": [
    {
     "data": {
      "text/plain": [
       "array([[[0., 0., 0.],\n",
       "        [0., 0., 0.]],\n",
       "\n",
       "       [[0., 0., 0.],\n",
       "        [0., 0., 0.]],\n",
       "\n",
       "       [[0., 0., 0.],\n",
       "        [0., 0., 0.]],\n",
       "\n",
       "       [[0., 0., 0.],\n",
       "        [0., 0., 0.]],\n",
       "\n",
       "       [[0., 0., 0.],\n",
       "        [0., 0., 0.]],\n",
       "\n",
       "       [[0., 0., 0.],\n",
       "        [0., 0., 0.]],\n",
       "\n",
       "       [[0., 0., 0.],\n",
       "        [0., 0., 0.]]])"
      ]
     },
     "execution_count": 9,
     "metadata": {},
     "output_type": "execute_result"
    }
   ],
   "source": [
    "zerosArr = np.zeros((7, 2, 3))\n",
    "zerosArr"
   ]
  },
  {
   "cell_type": "code",
   "execution_count": 10,
   "id": "525abc4c-e291-4a7b-a671-e3258bd67f7f",
   "metadata": {},
   "outputs": [
    {
     "data": {
      "text/plain": [
       "array([ 0,  3,  6,  9, 12, 15, 18, 21, 24, 27, 30, 33, 36, 39, 42, 45, 48,\n",
       "       51, 54, 57, 60, 63, 66, 69, 72, 75, 78, 81, 84, 87, 90, 93, 96, 99])"
      ]
     },
     "execution_count": 10,
     "metadata": {},
     "output_type": "execute_result"
    }
   ],
   "source": [
    "rangeArr = np.arange(0,100, 3)\n",
    "rangeArr"
   ]
  },
  {
   "cell_type": "code",
   "execution_count": 11,
   "id": "dcf301b6-ec81-47c0-8288-1030ea5745fc",
   "metadata": {},
   "outputs": [
    {
     "data": {
      "text/plain": [
       "array([[ 0,  9],\n",
       "       [ 3,  5],\n",
       "       [ 9,  8],\n",
       "       [ 9,  0],\n",
       "       [ 9,  6],\n",
       "       [ 1,  3],\n",
       "       [10,  1]])"
      ]
     },
     "execution_count": 11,
     "metadata": {},
     "output_type": "execute_result"
    }
   ],
   "source": [
    "randArr= np.random.randint(0, 11, size=(7,2))\n",
    "randArr"
   ]
  },
  {
   "cell_type": "code",
   "execution_count": 12,
   "id": "00a5eff3-425e-44a1-8f42-01e084b035b6",
   "metadata": {},
   "outputs": [
    {
     "data": {
      "text/plain": [
       "array([[0.09258767, 0.75857043, 0.0226566 , 0.98661473, 0.82116142],\n",
       "       [0.05339514, 0.0029667 , 0.9500322 , 0.67683198, 0.75842732],\n",
       "       [0.8619845 , 0.17693349, 0.18306424, 0.9059377 , 0.00614318]])"
      ]
     },
     "execution_count": 12,
     "metadata": {},
     "output_type": "execute_result"
    }
   ],
   "source": [
    "floatsArr = np.random.rand(3,5)\n",
    "floatsArr"
   ]
  },
  {
   "cell_type": "code",
   "execution_count": 13,
   "id": "0181e446-c2d1-466e-bfeb-7124391230dc",
   "metadata": {},
   "outputs": [
    {
     "data": {
      "text/plain": [
       "array([[ 6,  3, 10,  7,  4,  6],\n",
       "       [ 9,  2,  6, 10, 10,  7],\n",
       "       [ 4,  3,  7,  7,  2,  5],\n",
       "       [ 4,  1,  7,  5,  1,  4]])"
      ]
     },
     "execution_count": 13,
     "metadata": {},
     "output_type": "execute_result"
    }
   ],
   "source": [
    "np.random.seed(42)\n",
    "seedArray = np.random.randint(0, 11, size= (4,6))\n",
    "seedArray"
   ]
  },
  {
   "cell_type": "code",
   "execution_count": 14,
   "id": "72eb3adf-5fab-4e2c-b2a0-c92b90d942eb",
   "metadata": {},
   "outputs": [
    {
     "data": {
      "text/plain": [
       "array([ 6,  3, 10,  7,  4,  6])"
      ]
     },
     "execution_count": 14,
     "metadata": {},
     "output_type": "execute_result"
    }
   ],
   "source": [
    "#14\n",
    "seedArray[0]"
   ]
  },
  {
   "cell_type": "code",
   "execution_count": 15,
   "id": "85dd4d30-f195-4860-94fb-545b8806e1e5",
   "metadata": {},
   "outputs": [
    {
     "data": {
      "text/plain": [
       "array([[ 6,  3, 10,  7,  4,  6],\n",
       "       [ 9,  2,  6, 10, 10,  7]])"
      ]
     },
     "execution_count": 15,
     "metadata": {},
     "output_type": "execute_result"
    }
   ],
   "source": [
    "#15\n",
    "seedArray[:2]"
   ]
  },
  {
   "cell_type": "code",
   "execution_count": 16,
   "id": "0c83cbbe-bda5-4f14-ace4-ef5a53c0d388",
   "metadata": {},
   "outputs": [
    {
     "data": {
      "text/plain": [
       "array([[6, 3],\n",
       "       [9, 2]])"
      ]
     },
     "execution_count": 16,
     "metadata": {},
     "output_type": "execute_result"
    }
   ],
   "source": [
    "# 16 Get the first 2 values of the first 2 rows of the latest array\n",
    "seedArray [:2, :2]"
   ]
  },
  {
   "cell_type": "code",
   "execution_count": 17,
   "id": "da87083f-fa7b-42bd-bed1-989e0b866fc4",
   "metadata": {},
   "outputs": [
    {
     "data": {
      "text/plain": [
       "array([[ 0,  9,  5,  8,  0],\n",
       "       [10, 10,  9,  2,  6],\n",
       "       [ 3,  8,  2,  4,  2]])"
      ]
     },
     "execution_count": 17,
     "metadata": {},
     "output_type": "execute_result"
    }
   ],
   "source": [
    "# 17 Create a random array of numbers between 0 & 10 and an array of ones\n",
    "# both of size (3, 5), save them both to variables\n",
    "\n",
    "random_array = np.random.randint(0, 11, size=(3, 5))\n",
    "ones_array = np.ones((3, 5), dtype=int)\n",
    "\n",
    "random_array\n",
    "\n"
   ]
  },
  {
   "cell_type": "code",
   "execution_count": 18,
   "id": "bf033822-4bce-4cd8-8025-24f42a0ee91d",
   "metadata": {},
   "outputs": [
    {
     "data": {
      "text/plain": [
       "array([[1, 1, 1, 1, 1],\n",
       "       [1, 1, 1, 1, 1],\n",
       "       [1, 1, 1, 1, 1]])"
      ]
     },
     "execution_count": 18,
     "metadata": {},
     "output_type": "execute_result"
    }
   ],
   "source": [
    "ones_array"
   ]
  },
  {
   "cell_type": "code",
   "execution_count": 19,
   "id": "5392b801-18b0-4f3a-bdd1-8a89dfdf099a",
   "metadata": {},
   "outputs": [
    {
     "data": {
      "text/plain": [
       "array([[ 1, 10,  6,  9,  1],\n",
       "       [11, 11, 10,  3,  7],\n",
       "       [ 4,  9,  3,  5,  3]])"
      ]
     },
     "execution_count": 19,
     "metadata": {},
     "output_type": "execute_result"
    }
   ],
   "source": [
    "# Add the two arrays together\n",
    "\n",
    "result = random_array + ones_array\n",
    "result"
   ]
  },
  {
   "cell_type": "code",
   "execution_count": 20,
   "id": "faec39f1-0cc1-48a6-9b2b-893b7fdbd56f",
   "metadata": {},
   "outputs": [
    {
     "data": {
      "text/plain": [
       "array([[1, 1, 1],\n",
       "       [1, 1, 1],\n",
       "       [1, 1, 1],\n",
       "       [1, 1, 1],\n",
       "       [1, 1, 1]])"
      ]
     },
     "execution_count": 20,
     "metadata": {},
     "output_type": "execute_result"
    }
   ],
   "source": [
    "# Create another array of ones of shape (5, 3)\n",
    "ones_array2 = np.ones((5, 3), dtype=int)\n",
    "ones_array2"
   ]
  },
  {
   "cell_type": "code",
   "execution_count": 21,
   "id": "6121bbe5-8c70-42cc-a3c8-2e7f92a5a619",
   "metadata": {},
   "outputs": [
    {
     "data": {
      "text/plain": [
       "array([[2, 2, 2, 2, 2],\n",
       "       [2, 2, 2, 2, 2],\n",
       "       [2, 2, 2, 2, 2]])"
      ]
     },
     "execution_count": 21,
     "metadata": {},
     "output_type": "execute_result"
    }
   ],
   "source": [
    "sum_arrays = ones_array + ones_array2.T\n",
    "sum_arrays"
   ]
  },
  {
   "cell_type": "code",
   "execution_count": 22,
   "id": "92298dd6-defc-4b87-9f56-ffb792b901fe",
   "metadata": {},
   "outputs": [
    {
     "data": {
      "text/plain": [
       "array([[0, 0, 0, 0, 0],\n",
       "       [0, 0, 0, 0, 0],\n",
       "       [0, 0, 0, 0, 0]])"
      ]
     },
     "execution_count": 22,
     "metadata": {},
     "output_type": "execute_result"
    }
   ],
   "source": [
    "arrays = ones_array - ones_array2.T\n",
    "arrays"
   ]
  },
  {
   "cell_type": "code",
   "execution_count": 23,
   "id": "9c67328e-930b-48e7-a82c-c28e08b3949d",
   "metadata": {},
   "outputs": [
    {
     "data": {
      "text/plain": [
       "array([[1, 1, 1, 1, 1],\n",
       "       [1, 1, 1, 1, 1],\n",
       "       [1, 1, 1, 1, 1]])"
      ]
     },
     "execution_count": 23,
     "metadata": {},
     "output_type": "execute_result"
    }
   ],
   "source": [
    "arrays = ones_array * ones_array2.T\n",
    "arrays"
   ]
  },
  {
   "cell_type": "code",
   "execution_count": 24,
   "id": "12f14f1d-0704-4a45-9613-ffaa80a596af",
   "metadata": {},
   "outputs": [
    {
     "data": {
      "text/plain": [
       "array([[          1,   387420489,        3125,    16777216,           1],\n",
       "       [10000000000, 10000000000,   387420489,           4,       46656],\n",
       "       [         27,    16777216,           4,         256,           4]])"
      ]
     },
     "execution_count": 24,
     "metadata": {},
     "output_type": "execute_result"
    }
   ],
   "source": [
    "arrays = random_array ** random_array\n",
    "arrays"
   ]
  },
  {
   "cell_type": "code",
   "execution_count": 25,
   "id": "89399b3b-f605-4168-89ac-a5b9fdfdf496",
   "metadata": {},
   "outputs": [
    {
     "data": {
      "text/plain": [
       "np.float64(1387229699.2)"
      ]
     },
     "execution_count": 25,
     "metadata": {},
     "output_type": "execute_result"
    }
   ],
   "source": [
    "# Find the mean of the latest array using np.mean()\n",
    "arrmean = np.mean(arrays)\n",
    "arrmean"
   ]
  },
  {
   "cell_type": "code",
   "execution_count": 26,
   "id": "2410c90d-1e51-47c6-97dd-64e24c081aa8",
   "metadata": {},
   "outputs": [
    {
     "data": {
      "text/plain": [
       "np.int64(10000000000)"
      ]
     },
     "execution_count": 26,
     "metadata": {},
     "output_type": "execute_result"
    }
   ],
   "source": [
    "# Find the maximum of the latest array using np.max()\n",
    "maxArr = np.max(arrays)\n",
    "maxArr"
   ]
  },
  {
   "cell_type": "code",
   "execution_count": 27,
   "id": "9dddda5e-decb-4f10-80ed-5063951304fc",
   "metadata": {},
   "outputs": [
    {
     "data": {
      "text/plain": [
       "np.int64(1)"
      ]
     },
     "execution_count": 27,
     "metadata": {},
     "output_type": "execute_result"
    }
   ],
   "source": [
    "# Find the minimum of the latest array using np.min()\n",
    "minArr = np.min(arrays)\n",
    "minArr"
   ]
  },
  {
   "cell_type": "code",
   "execution_count": 28,
   "id": "3f49e4ba-68e0-4f2b-96ec-277fb70420f1",
   "metadata": {},
   "outputs": [
    {
     "data": {
      "text/plain": [
       "np.float64(3380677039.170272)"
      ]
     },
     "execution_count": 28,
     "metadata": {},
     "output_type": "execute_result"
    }
   ],
   "source": [
    "# Find the standard deviation of the latest array\n",
    "std_dev = np.std(arrays)\n",
    "std_dev"
   ]
  },
  {
   "cell_type": "code",
   "execution_count": 29,
   "id": "5a42de12-dadf-42e8-9099-2b8f07600df7",
   "metadata": {},
   "outputs": [
    {
     "data": {
      "text/plain": [
       "np.float64(1.1428977243173075e+19)"
      ]
     },
     "execution_count": 29,
     "metadata": {},
     "output_type": "execute_result"
    }
   ],
   "source": [
    "# Find the variance of the latest array\n",
    "variance = np.var(arrays)\n",
    "variance"
   ]
  },
  {
   "cell_type": "code",
   "execution_count": 30,
   "id": "1f2dd2d6-676c-4228-b714-3f0277db6cf5",
   "metadata": {},
   "outputs": [
    {
     "data": {
      "text/plain": [
       "array([[[          1],\n",
       "        [  387420489],\n",
       "        [       3125],\n",
       "        [   16777216],\n",
       "        [          1]],\n",
       "\n",
       "       [[10000000000],\n",
       "        [10000000000],\n",
       "        [  387420489],\n",
       "        [          4],\n",
       "        [      46656]],\n",
       "\n",
       "       [[         27],\n",
       "        [   16777216],\n",
       "        [          4],\n",
       "        [        256],\n",
       "        [          4]]])"
      ]
     },
     "execution_count": 30,
     "metadata": {},
     "output_type": "execute_result"
    }
   ],
   "source": [
    "# Reshape the latest array to (3, 5, 1)\n",
    "reshaped_array = arrays.reshape(3, 5, 1)\n",
    "reshaped_array\n"
   ]
  },
  {
   "cell_type": "code",
   "execution_count": 31,
   "id": "e4d57634-2965-46a2-be2b-355417abf191",
   "metadata": {},
   "outputs": [
    {
     "name": "stdout",
     "output_type": "stream",
     "text": [
      "Transposed array shape: (5, 3, 1)\n",
      "Transposed array:\n",
      " [[[          1]\n",
      "  [10000000000]\n",
      "  [         27]]\n",
      "\n",
      " [[  387420489]\n",
      "  [10000000000]\n",
      "  [   16777216]]\n",
      "\n",
      " [[       3125]\n",
      "  [  387420489]\n",
      "  [          4]]\n",
      "\n",
      " [[   16777216]\n",
      "  [          4]\n",
      "  [        256]]\n",
      "\n",
      " [[          1]\n",
      "  [      46656]\n",
      "  [          4]]]\n"
     ]
    }
   ],
   "source": [
    "# Transpose the latest array\n",
    "transposed_array = reshaped_array.transpose(1, 0, 2)\n",
    "print(\"Transposed array shape:\", transposed_array.shape)\n",
    "print(\"Transposed array:\\n\", transposed_array)\n"
   ]
  },
  {
   "cell_type": "code",
   "execution_count": 32,
   "id": "fe7ac8ed-8e92-4638-b690-8a8f05836918",
   "metadata": {},
   "outputs": [
    {
     "name": "stdout",
     "output_type": "stream",
     "text": [
      "Array 3x3:\n",
      " [[6 4 8]\n",
      " [6 1 3]\n",
      " [8 1 9]]\n",
      "\n",
      "Array 3x2:\n",
      " [[8 9]\n",
      " [4 1]\n",
      " [3 6]]\n"
     ]
    }
   ],
   "source": [
    "# Create two arrays of random integers between 0 to 10\n",
    "# one of size (3, 3) the other of size (3, 2)\n",
    "\n",
    "array_3x3 = np.random.randint(0, 11, size=(3, 3))\n",
    "\n",
    "array_3x2 = np.random.randint(0, 11, size=(3, 2))\n",
    "\n",
    "print(\"Array 3x3:\\n\", array_3x3)\n",
    "print(\"\\nArray 3x2:\\n\", array_3x2)\n"
   ]
  },
  {
   "cell_type": "code",
   "execution_count": 33,
   "id": "1270ee80-0590-40d2-a09f-614fbfd8baaa",
   "metadata": {},
   "outputs": [
    {
     "data": {
      "text/plain": [
       "array([[7, 2, 0],\n",
       "       [3, 1, 7],\n",
       "       [3, 1, 5],\n",
       "       [5, 9, 3]])"
      ]
     },
     "execution_count": 33,
     "metadata": {},
     "output_type": "execute_result"
    }
   ],
   "source": [
    "# Create two arrays of random integers between 0 to 10\n",
    "# both of size (4, 3)\n",
    "random_array1 = np.random.randint(0, 11, size=(4, 3))\n",
    "random_array2 = np.random.randint(0, 11, size=(4, 3))\n",
    "random_array1\n"
   ]
  },
  {
   "cell_type": "code",
   "execution_count": 34,
   "id": "e452f9e5-65fd-4f10-b568-97571d876173",
   "metadata": {},
   "outputs": [
    {
     "data": {
      "text/plain": [
       "array([[5, 1, 9],\n",
       "       [1, 9, 3],\n",
       "       [7, 6, 8],\n",
       "       [7, 4, 1]])"
      ]
     },
     "execution_count": 34,
     "metadata": {},
     "output_type": "execute_result"
    }
   ],
   "source": [
    "random_array2"
   ]
  },
  {
   "cell_type": "code",
   "execution_count": 35,
   "id": "f540a0e7-43f4-4b7f-9457-63b824701adf",
   "metadata": {},
   "outputs": [
    {
     "data": {
      "text/plain": [
       "array([[ 37,  25,  61,  57],\n",
       "       [ 79,  33,  83,  32],\n",
       "       [ 61,  27,  67,  30],\n",
       "       [ 61,  95, 113,  74]])"
      ]
     },
     "execution_count": 35,
     "metadata": {},
     "output_type": "execute_result"
    }
   ],
   "source": [
    "dot_result = np.dot(random_array1, random_array2.T)\n",
    "dot_result"
   ]
  },
  {
   "cell_type": "code",
   "execution_count": 36,
   "id": "2a833535-3fe3-46a0-ba24-bae6c72659c7",
   "metadata": {},
   "outputs": [
    {
     "name": "stdout",
     "output_type": "stream",
     "text": [
      "Array A:\n",
      " [[4 7 9]\n",
      " [8 8 0]\n",
      " [8 6 8]]\n",
      "\n",
      "Array B:\n",
      " [[ 7  0  7]\n",
      " [ 7 10  2]\n",
      " [ 0  7  2]]\n",
      "\n",
      "A > B:\n",
      " [[False  True  True]\n",
      " [ True False False]\n",
      " [ True False  True]]\n"
     ]
    }
   ],
   "source": [
    "# Create two arrays of random integers between 0 & 10 of the same shape\n",
    "# and save them to variables\n",
    "# Compare the two arrays with '>'\n",
    "\n",
    "array_a = np.random.randint(0, 11, size=(3, 3))\n",
    "array_b = np.random.randint(0, 11, size=(3, 3))\n",
    "\n",
    "\n",
    "comparison = array_a > array_b\n",
    "\n",
    "print(\"Array A:\\n\", array_a)\n",
    "print(\"\\nArray B:\\n\", array_b)\n",
    "print(\"\\nA > B:\\n\", comparison)\n"
   ]
  },
  {
   "cell_type": "code",
   "execution_count": 37,
   "id": "440ddacd-f779-4805-8e0b-401b21d9697a",
   "metadata": {},
   "outputs": [
    {
     "data": {
      "text/plain": [
       "array([[False,  True,  True],\n",
       "       [ True, False, False],\n",
       "       [ True, False,  True]])"
      ]
     },
     "execution_count": 37,
     "metadata": {},
     "output_type": "execute_result"
    }
   ],
   "source": [
    "# Compare the two arrays with '>='\n",
    "\n",
    "comparison2 = array_a >= array_b\n",
    "comparison2"
   ]
  },
  {
   "cell_type": "code",
   "execution_count": 38,
   "id": "b66d202e-19e0-4526-9ce5-1a354bd5b6c9",
   "metadata": {},
   "outputs": [
    {
     "name": "stdout",
     "output_type": "stream",
     "text": [
      "Array A:\n",
      " [[4 7 9]\n",
      " [8 8 0]\n",
      " [8 6 8]]\n",
      "\n",
      "Elements > 7 (Boolean mask):\n",
      " [[False False  True]\n",
      " [ True  True False]\n",
      " [ True False  True]]\n",
      "\n",
      "Values > 7:\n",
      " [9 8 8 8 8]\n"
     ]
    }
   ],
   "source": [
    "# Find which elements of the first array are greater than 7\n",
    "\n",
    "greater_than_7 = array_a > 7\n",
    "\n",
    "print(\"Array A:\\n\", array_a)\n",
    "print(\"\\nElements > 7 (Boolean mask):\\n\", greater_than_7)\n",
    "print(\"\\nValues > 7:\\n\", array_a[greater_than_7])"
   ]
  },
  {
   "cell_type": "code",
   "execution_count": 39,
   "id": "3909ab4e-02a5-41e4-9545-bb643ba207d0",
   "metadata": {},
   "outputs": [
    {
     "name": "stdout",
     "output_type": "stream",
     "text": [
      "Original Array A:\n",
      " [[4 7 9]\n",
      " [8 8 0]\n",
      " [8 6 8]]\n",
      "\n",
      "Sorted Array A (row-wise):\n",
      " [[4 7 9]\n",
      " [0 8 8]\n",
      " [6 8 8]]\n"
     ]
    }
   ],
   "source": [
    "# Sort one of the arrays you just created in ascending order\n",
    "\n",
    "sorted_array = np.sort(array_a)\n",
    "\n",
    "print(\"Original Array A:\\n\", array_a)\n",
    "print(\"\\nSorted Array A (row-wise):\\n\", sorted_array)\n"
   ]
  },
  {
   "cell_type": "code",
   "execution_count": 40,
   "id": "996de200-3f97-4e9c-84ce-bb132df564f7",
   "metadata": {},
   "outputs": [
    {
     "name": "stdout",
     "output_type": "stream",
     "text": [
      "Array A:\n",
      " [[4 7 9]\n",
      " [8 8 0]\n",
      " [8 6 8]]\n",
      "\n",
      "Sorted indices (row-wise):\n",
      " [[0 1 2]\n",
      " [2 0 1]\n",
      " [1 0 2]]\n"
     ]
    }
   ],
   "source": [
    "sorted_indices = np.argsort(array_a, axis=1)\n",
    "\n",
    "print(\"Array A:\\n\", array_a)\n",
    "print(\"\\nSorted indices (row-wise):\\n\", sorted_indices)\n",
    "#Each row in sorted_indices shows positions of elements in sorted order"
   ]
  },
  {
   "cell_type": "code",
   "execution_count": 41,
   "id": "267bb9c3-c031-4509-975f-e1c09633e870",
   "metadata": {},
   "outputs": [
    {
     "name": "stdout",
     "output_type": "stream",
     "text": [
      "Row, Column index of a max value: (np.int64(0), np.int64(2))\n",
      "Row, Column index of a min value: (np.int64(0), np.int64(2))\n"
     ]
    },
    {
     "data": {
      "text/plain": [
       "(np.int64(1), np.int64(2))"
      ]
     },
     "execution_count": 41,
     "metadata": {},
     "output_type": "execute_result"
    }
   ],
   "source": [
    "# Find the index with the maximum value in one of the arrays you've created\n",
    "# Find the index with the minimum value in one of the arrays you've created\n",
    "\n",
    "max_position = np.unravel_index(np.argmax(array_a), array_a.shape)\n",
    "print(\"Row, Column index of a max value:\", max_position)\n",
    "\n",
    "min_position = np.unravel_index(np.argmin(array_a), array_a.shape)\n",
    "print(\"Row, Column index of a min value:\", max_position)\n",
    "\n",
    "max_position\n",
    "min_position\n"
   ]
  },
  {
   "cell_type": "code",
   "execution_count": 42,
   "id": "04bc3eee-8a5e-42fa-93bc-d35b593c19d7",
   "metadata": {},
   "outputs": [
    {
     "name": "stdout",
     "output_type": "stream",
     "text": [
      "Max value position: (0, 2)\n",
      "Min value position: (1, 2)\n"
     ]
    }
   ],
   "source": [
    "max_pos = np.unravel_index(np.argmax(array_a), array_a.shape)\n",
    "min_pos = np.unravel_index(np.argmin(array_a), array_a.shape)\n",
    "\n",
    "print(\"Max value position:\", tuple(map(int, max_pos)))\n",
    "print(\"Min value position:\", tuple(map(int, min_pos)))\n",
    "\n"
   ]
  },
  {
   "cell_type": "code",
   "execution_count": 43,
   "id": "74a561c1-b489-4dec-b706-314265f8019d",
   "metadata": {},
   "outputs": [
    {
     "name": "stdout",
     "output_type": "stream",
     "text": [
      "Array A:\n",
      " [[4 7 9]\n",
      " [8 8 0]\n",
      " [8 6 8]]\n",
      "\n",
      "Index of max value in each row:\n",
      " [2 0 0]\n"
     ]
    }
   ],
   "source": [
    "# Find the indexes with the maximum values down the 1st axis (axis=1)\n",
    "# of one of the arrays you created\n",
    "\n",
    "\n",
    "# Example array (or use your existing array_a)\n",
    "# array_a = np.random.randint(0, 11, size=(3, 3))\n",
    "\n",
    "max_indices_per_row = np.argmax(array_a, axis=1)\n",
    "\n",
    "print(\"Array A:\\n\", array_a)\n",
    "print(\"\\nIndex of max value in each row:\\n\", max_indices_per_row)\n"
   ]
  },
  {
   "cell_type": "code",
   "execution_count": 45,
   "id": "cd3763f3-4ebf-4124-8de3-6eb11e3d2447",
   "metadata": {},
   "outputs": [
    {
     "name": "stdout",
     "output_type": "stream",
     "text": [
      "Array A:\n",
      " [[4 7 9]\n",
      " [8 8 0]\n",
      " [8 6 8]]\n",
      "\n",
      "Index of min value in each column:\n",
      " [0 2 1]\n"
     ]
    }
   ],
   "source": [
    "# Find the indexes with the minimum values across the 0th axis (axis=0)\n",
    "# of one of the arrays you created\n",
    "min_indices_per_column = np.argmin(array_a, axis=0)\n",
    "\n",
    "print(\"Array A:\\n\", array_a)\n",
    "print(\"\\nIndex of min value in each column:\\n\", min_indices_per_column)\n"
   ]
  },
  {
   "cell_type": "code",
   "execution_count": 46,
   "id": "7604cb3f-51bd-4490-a2cd-5b1c4817b0c9",
   "metadata": {},
   "outputs": [
    {
     "name": "stdout",
     "output_type": "stream",
     "text": [
      "Normally distributed array:\n",
      " [[ 0.47604259  1.30366127  0.21158701  0.59704465]\n",
      " [-0.89633518 -0.11198782  1.46894129 -1.12389833]\n",
      " [ 0.9500054   1.72651647  0.45788508 -1.68428738]]\n"
     ]
    }
   ],
   "source": [
    "# Create an array of normally distributed random numbers\n",
    "\n",
    "# Create a 2D array with shape (3, 4)\n",
    "normal_array = np.random.randn(3, 4)\n",
    "\n",
    "print(\"Normally distributed array:\\n\", normal_array)\n"
   ]
  },
  {
   "cell_type": "code",
   "execution_count": 47,
   "id": "9a8bb475-1e24-4245-a453-eda10cdb96a7",
   "metadata": {},
   "outputs": [
    {
     "name": "stdout",
     "output_type": "stream",
     "text": [
      "Evenly spaced numbers:\n",
      " [  1.  12.  23.  34.  45.  56.  67.  78.  89. 100.]\n"
     ]
    }
   ],
   "source": [
    "# Create an array with 10 evenly spaced numbers between 1 and 100\n",
    "\n",
    "evenly_spaced = np.linspace(1, 100, 10)\n",
    "\n",
    "print(\"Evenly spaced numbers:\\n\", evenly_spaced)\n"
   ]
  },
  {
   "cell_type": "code",
   "execution_count": null,
   "id": "aa36f80a-7c45-4c6d-be97-1683fd011361",
   "metadata": {},
   "outputs": [],
   "source": []
  },
  {
   "cell_type": "code",
   "execution_count": null,
   "id": "196de2c2-fe8d-42a7-bb41-1768b26d4f94",
   "metadata": {},
   "outputs": [],
   "source": []
  },
  {
   "cell_type": "code",
   "execution_count": null,
   "id": "a17ad7ec-e4c2-40d6-8a93-b851277b6585",
   "metadata": {},
   "outputs": [],
   "source": []
  }
 ],
 "metadata": {
  "kernelspec": {
   "display_name": "Python 3 (ipykernel)",
   "language": "python",
   "name": "python3"
  },
  "language_info": {
   "codemirror_mode": {
    "name": "ipython",
    "version": 3
   },
   "file_extension": ".py",
   "mimetype": "text/x-python",
   "name": "python",
   "nbconvert_exporter": "python",
   "pygments_lexer": "ipython3",
   "version": "3.13.2"
  }
 },
 "nbformat": 4,
 "nbformat_minor": 5
}
